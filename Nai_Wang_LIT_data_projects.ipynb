{
 "cells": [
  {
   "cell_type": "markdown",
   "metadata": {},
   "source": [
    "You are given two data sets\n",
    "\n",
    "Historical Daily Oil Prices: RWTCD.xls\n",
    "3 Month Treasury Bill: 3MO.CSV\n",
    "\n",
    " \n",
    "\n",
    "For the period 12/31/2019 - 12/31/2020:\n",
    "\n",
    "A. Please compute Daily Excess Return levels based on comparisons to risk free (3Mo T-bill).\n",
    "\n",
    "B. Please compute the Log Cumulative Excess Return over the same period.\n",
    "\n",
    " \n",
    "\n",
    "Please use any approach programmatic or manual but make sure to document your approach and a method for us to run and evaluate your submission. You are not restricted by the use of tools and are NOT bound to use the data we provided. We do not expect that you will need financial data subscriptions to solve this problem but do feel free to reach out to us if you run into any questions along the way.\n",
    "\n",
    " \n",
    "\n",
    "Submitting\n",
    "\n",
    "Please submit a public GitHub url if you are submitting code otherwise use the link below to upload your submission. \n",
    "\n",
    "Please submit here:\n",
    "https://app3.greenhouse.io/tests/f8d6f4975c0dbc3b29d4965269462a3e?utm_medium=email&utm_source=TakeHomeTest"
   ]
  },
  {
   "cell_type": "code",
   "execution_count": 1,
   "metadata": {},
   "outputs": [],
   "source": [
    "## set up enviorment\n",
    "import pandas as pd\n",
    "import numpy as np\n",
    "import matplotlib.pyplot as plt\n",
    "from matplotlib.pyplot import figure\n",
    "\n",
    "# initiate df to work with\n",
    "t_bill = pd.read_csv('3MO.csv', header = 0, names = ['date','rf'])\n",
    "\n",
    "# specify sheet name and strating row to retrive the correct data, make column names easier to work with\n",
    "oil_prices = pd.read_excel('RWTCd.xls', sheet_name = 'Data 1', header = 2, names = ['date', 'price']) ## "
   ]
  },
  {
   "cell_type": "markdown",
   "metadata": {},
   "source": [
    "# Preprocessing the treasury bill data frame"
   ]
  },
  {
   "cell_type": "code",
   "execution_count": 2,
   "metadata": {},
   "outputs": [
    {
     "data": {
      "text/plain": [
       "date    object\n",
       "rf      object\n",
       "dtype: object"
      ]
     },
     "execution_count": 2,
     "metadata": {},
     "output_type": "execute_result"
    }
   ],
   "source": [
    "# check data types to make sure we have the correct thing to work with\n",
    "# in this case, both columns of the treasury bill df require further exploration\n",
    "t_bill.dtypes"
   ]
  },
  {
   "cell_type": "code",
   "execution_count": 3,
   "metadata": {},
   "outputs": [
    {
     "data": {
      "text/plain": [
       "count     1263\n",
       "unique     216\n",
       "top          .\n",
       "freq        53\n",
       "Name: rf, dtype: object"
      ]
     },
     "execution_count": 3,
     "metadata": {},
     "output_type": "execute_result"
    }
   ],
   "source": [
    "## check to see if the rf column needs some cleaning as well, in this case we found some '.' entires\n",
    "t_bill['rf'].describe()"
   ]
  },
  {
   "cell_type": "code",
   "execution_count": 4,
   "metadata": {},
   "outputs": [
    {
     "data": {
      "text/plain": [
       "False    1263\n",
       "Name: rf, dtype: int64"
      ]
     },
     "execution_count": 4,
     "metadata": {},
     "output_type": "execute_result"
    }
   ],
   "source": [
    "## change the data type of the date column to datetime\n",
    "t_bill['date'] = pd.to_datetime(t_bill['date'])\n",
    "\n",
    "## change non numeric values ('.'s) to NA\n",
    "t_bill['rf'] = pd.to_numeric(t_bill['rf'], errors='coerce')\n",
    "\n",
    "# use foward fill to fill the NAs caused by the '.' \n",
    "# becauase it best practice to use the closing price of the previous trading day if the data is missing\n",
    "t_bill['rf'] = t_bill['rf'].fillna(method = 'ffill')\n",
    "\n",
    "# check if there are any NAs left\n",
    "t_bill['rf'].isna().value_counts()"
   ]
  },
  {
   "cell_type": "code",
   "execution_count": 5,
   "metadata": {},
   "outputs": [
    {
     "data": {
      "text/html": [
       "<div>\n",
       "<style scoped>\n",
       "    .dataframe tbody tr th:only-of-type {\n",
       "        vertical-align: middle;\n",
       "    }\n",
       "\n",
       "    .dataframe tbody tr th {\n",
       "        vertical-align: top;\n",
       "    }\n",
       "\n",
       "    .dataframe thead th {\n",
       "        text-align: right;\n",
       "    }\n",
       "</style>\n",
       "<table border=\"1\" class=\"dataframe\">\n",
       "  <thead>\n",
       "    <tr style=\"text-align: right;\">\n",
       "      <th></th>\n",
       "      <th>date</th>\n",
       "      <th>rf</th>\n",
       "    </tr>\n",
       "  </thead>\n",
       "  <tbody>\n",
       "    <tr>\n",
       "      <th>872</th>\n",
       "      <td>2019-12-31</td>\n",
       "      <td>1.52</td>\n",
       "    </tr>\n",
       "    <tr>\n",
       "      <th>873</th>\n",
       "      <td>2020-01-01</td>\n",
       "      <td>1.52</td>\n",
       "    </tr>\n",
       "    <tr>\n",
       "      <th>874</th>\n",
       "      <td>2020-01-02</td>\n",
       "      <td>1.51</td>\n",
       "    </tr>\n",
       "    <tr>\n",
       "      <th>875</th>\n",
       "      <td>2020-01-03</td>\n",
       "      <td>1.49</td>\n",
       "    </tr>\n",
       "    <tr>\n",
       "      <th>876</th>\n",
       "      <td>2020-01-06</td>\n",
       "      <td>1.53</td>\n",
       "    </tr>\n",
       "    <tr>\n",
       "      <th>...</th>\n",
       "      <td>...</td>\n",
       "      <td>...</td>\n",
       "    </tr>\n",
       "    <tr>\n",
       "      <th>1129</th>\n",
       "      <td>2020-12-25</td>\n",
       "      <td>0.09</td>\n",
       "    </tr>\n",
       "    <tr>\n",
       "      <th>1130</th>\n",
       "      <td>2020-12-28</td>\n",
       "      <td>0.11</td>\n",
       "    </tr>\n",
       "    <tr>\n",
       "      <th>1131</th>\n",
       "      <td>2020-12-29</td>\n",
       "      <td>0.10</td>\n",
       "    </tr>\n",
       "    <tr>\n",
       "      <th>1132</th>\n",
       "      <td>2020-12-30</td>\n",
       "      <td>0.08</td>\n",
       "    </tr>\n",
       "    <tr>\n",
       "      <th>1133</th>\n",
       "      <td>2020-12-31</td>\n",
       "      <td>0.09</td>\n",
       "    </tr>\n",
       "  </tbody>\n",
       "</table>\n",
       "<p>262 rows × 2 columns</p>\n",
       "</div>"
      ],
      "text/plain": [
       "           date    rf\n",
       "872  2019-12-31  1.52\n",
       "873  2020-01-01  1.52\n",
       "874  2020-01-02  1.51\n",
       "875  2020-01-03  1.49\n",
       "876  2020-01-06  1.53\n",
       "...         ...   ...\n",
       "1129 2020-12-25  0.09\n",
       "1130 2020-12-28  0.11\n",
       "1131 2020-12-29  0.10\n",
       "1132 2020-12-30  0.08\n",
       "1133 2020-12-31  0.09\n",
       "\n",
       "[262 rows x 2 columns]"
      ]
     },
     "execution_count": 5,
     "metadata": {},
     "output_type": "execute_result"
    }
   ],
   "source": [
    "#selecting the time period to use\n",
    "mask = (t_bill['date'] >= '2019-12-31') & (t_bill['date'] <= '2020-12-31')\n",
    "df_tbill = t_bill[mask]\n",
    "df_tbill"
   ]
  },
  {
   "cell_type": "code",
   "execution_count": 6,
   "metadata": {},
   "outputs": [
    {
     "data": {
      "text/plain": [
       "262"
      ]
     },
     "execution_count": 6,
     "metadata": {},
     "output_type": "execute_result"
    }
   ],
   "source": [
    "len(df_tbill['date'].unique())"
   ]
  },
  {
   "cell_type": "markdown",
   "metadata": {},
   "source": [
    "# Preprocessing the oil price data frame"
   ]
  },
  {
   "cell_type": "code",
   "execution_count": 7,
   "metadata": {},
   "outputs": [
    {
     "data": {
      "text/plain": [
       "date     datetime64[ns]\n",
       "price           float64\n",
       "dtype: object"
      ]
     },
     "execution_count": 7,
     "metadata": {},
     "output_type": "execute_result"
    }
   ],
   "source": [
    "# check data types to make sure we have the correct thing to work with\n",
    "oil_prices.dtypes"
   ]
  },
  {
   "cell_type": "code",
   "execution_count": 8,
   "metadata": {},
   "outputs": [
    {
     "data": {
      "text/html": [
       "<div>\n",
       "<style scoped>\n",
       "    .dataframe tbody tr th:only-of-type {\n",
       "        vertical-align: middle;\n",
       "    }\n",
       "\n",
       "    .dataframe tbody tr th {\n",
       "        vertical-align: top;\n",
       "    }\n",
       "\n",
       "    .dataframe thead th {\n",
       "        text-align: right;\n",
       "    }\n",
       "</style>\n",
       "<table border=\"1\" class=\"dataframe\">\n",
       "  <thead>\n",
       "    <tr style=\"text-align: right;\">\n",
       "      <th></th>\n",
       "      <th>date</th>\n",
       "      <th>price</th>\n",
       "      <th>shift_1</th>\n",
       "      <th>ret</th>\n",
       "    </tr>\n",
       "  </thead>\n",
       "  <tbody>\n",
       "    <tr>\n",
       "      <th>8568</th>\n",
       "      <td>2019-12-31</td>\n",
       "      <td>61.14</td>\n",
       "      <td>61.66</td>\n",
       "      <td>-0.008433</td>\n",
       "    </tr>\n",
       "    <tr>\n",
       "      <th>8569</th>\n",
       "      <td>2020-01-02</td>\n",
       "      <td>61.17</td>\n",
       "      <td>61.14</td>\n",
       "      <td>0.000491</td>\n",
       "    </tr>\n",
       "    <tr>\n",
       "      <th>8570</th>\n",
       "      <td>2020-01-03</td>\n",
       "      <td>63.00</td>\n",
       "      <td>61.17</td>\n",
       "      <td>0.029917</td>\n",
       "    </tr>\n",
       "    <tr>\n",
       "      <th>8571</th>\n",
       "      <td>2020-01-06</td>\n",
       "      <td>63.27</td>\n",
       "      <td>63.00</td>\n",
       "      <td>0.004286</td>\n",
       "    </tr>\n",
       "    <tr>\n",
       "      <th>8572</th>\n",
       "      <td>2020-01-07</td>\n",
       "      <td>62.70</td>\n",
       "      <td>63.27</td>\n",
       "      <td>-0.009009</td>\n",
       "    </tr>\n",
       "    <tr>\n",
       "      <th>...</th>\n",
       "      <td>...</td>\n",
       "      <td>...</td>\n",
       "      <td>...</td>\n",
       "      <td>...</td>\n",
       "    </tr>\n",
       "    <tr>\n",
       "      <th>8816</th>\n",
       "      <td>2020-12-24</td>\n",
       "      <td>48.18</td>\n",
       "      <td>47.94</td>\n",
       "      <td>0.005006</td>\n",
       "    </tr>\n",
       "    <tr>\n",
       "      <th>8817</th>\n",
       "      <td>2020-12-28</td>\n",
       "      <td>47.50</td>\n",
       "      <td>48.18</td>\n",
       "      <td>-0.014114</td>\n",
       "    </tr>\n",
       "    <tr>\n",
       "      <th>8818</th>\n",
       "      <td>2020-12-29</td>\n",
       "      <td>47.85</td>\n",
       "      <td>47.50</td>\n",
       "      <td>0.007368</td>\n",
       "    </tr>\n",
       "    <tr>\n",
       "      <th>8819</th>\n",
       "      <td>2020-12-30</td>\n",
       "      <td>48.24</td>\n",
       "      <td>47.85</td>\n",
       "      <td>0.008150</td>\n",
       "    </tr>\n",
       "    <tr>\n",
       "      <th>8820</th>\n",
       "      <td>2020-12-31</td>\n",
       "      <td>48.35</td>\n",
       "      <td>48.24</td>\n",
       "      <td>0.002280</td>\n",
       "    </tr>\n",
       "  </tbody>\n",
       "</table>\n",
       "<p>253 rows × 4 columns</p>\n",
       "</div>"
      ],
      "text/plain": [
       "           date  price  shift_1       ret\n",
       "8568 2019-12-31  61.14    61.66 -0.008433\n",
       "8569 2020-01-02  61.17    61.14  0.000491\n",
       "8570 2020-01-03  63.00    61.17  0.029917\n",
       "8571 2020-01-06  63.27    63.00  0.004286\n",
       "8572 2020-01-07  62.70    63.27 -0.009009\n",
       "...         ...    ...      ...       ...\n",
       "8816 2020-12-24  48.18    47.94  0.005006\n",
       "8817 2020-12-28  47.50    48.18 -0.014114\n",
       "8818 2020-12-29  47.85    47.50  0.007368\n",
       "8819 2020-12-30  48.24    47.85  0.008150\n",
       "8820 2020-12-31  48.35    48.24  0.002280\n",
       "\n",
       "[253 rows x 4 columns]"
      ]
     },
     "execution_count": 8,
     "metadata": {},
     "output_type": "execute_result"
    }
   ],
   "source": [
    "# creating new column to calculate return\n",
    "oil_prices['shift_1'] = oil_prices['price'].shift(1)\n",
    "\n",
    "# calculating the return\n",
    "oil_prices['ret'] = ( oil_prices['price'] - oil_prices['shift_1'] ) / oil_prices['shift_1']\n",
    "\n",
    "\n",
    "#selecting the time period to use\n",
    "mask_2 = (oil_prices['date'] >= '2019-12-31') & (oil_prices['date'] <= '2020-12-31')\n",
    "df_oil = oil_prices[mask_2]\n",
    "df_oil"
   ]
  },
  {
   "cell_type": "code",
   "execution_count": 9,
   "metadata": {},
   "outputs": [
    {
     "data": {
      "text/plain": [
       "253"
      ]
     },
     "execution_count": 9,
     "metadata": {},
     "output_type": "execute_result"
    }
   ],
   "source": [
    "len(df_oil['date'].unique())"
   ]
  },
  {
   "cell_type": "markdown",
   "metadata": {},
   "source": [
    "# Merging the two df together and calculating the excess return and the log cumulative excess return"
   ]
  },
  {
   "cell_type": "code",
   "execution_count": 10,
   "metadata": {},
   "outputs": [
    {
     "name": "stderr",
     "output_type": "stream",
     "text": [
      "C:\\Users\\yinwn\\anaconda3\\lib\\site-packages\\pandas\\core\\series.py:679: RuntimeWarning: invalid value encountered in log\n",
      "  result = getattr(ufunc, method)(*inputs, **kwargs)\n"
     ]
    },
    {
     "data": {
      "text/plain": [
       "<matplotlib.legend.Legend at 0x1a8d1164748>"
      ]
     },
     "execution_count": 10,
     "metadata": {},
     "output_type": "execute_result"
    },
    {
     "data": {
      "image/png": "[encoded data removed]",
      "text/plain": [
       "<Figure size 1080x576 with 1 Axes>"
      ]
     },
     "metadata": {
      "needs_background": "light"
     },
     "output_type": "display_data"
    }
   ],
   "source": [
    "# merging the two df on the date column\n",
    "df_all = df_tbill.merge(df_oil, left_on='date', right_on='date')\n",
    "\n",
    "# converting the unit of the rf rates\n",
    "df_all['rf'] = df_all['rf'] / 100\n",
    "\n",
    "# calculateing the excess return of oil to rf\n",
    "df_all['excess_ret'] = df_all['ret'] - df_all['rf']\n",
    "\n",
    "\n",
    "# calculating the cumulative excess return and the log cumulative excess return\n",
    "df_all['cumulative_excess_ret'] = (df_all['excess_ret'] + 1).cumprod() - 1\n",
    "df_all['log_cumulative_excess_return'] = np.log(df_all['cumulative_excess_ret'] + 1).diff()\n",
    "\n",
    "# writing the outputing csv file\n",
    "df_all.to_csv('Nai_Wang_LIT_Interview_assignment.csv')\n",
    "\n",
    "\n",
    "##plotting\n",
    "plt.figure(figsize=(15,8))\n",
    "plt.plot(df_all['date'], df_all['ret'], '-g', label='return')  # solid green\n",
    "plt.plot(df_all['date'], df_all['excess_ret'], '--c', label='excess_return') # dashed cyan\n",
    "plt.plot(df_all['date'], df_all['cumulative_excess_ret'], '-.k', label='cumulative_excess_ret') # dashdot black\n",
    "plt.plot(df_all['date'], df_all['log_cumulative_excess_return'], ':r', label='log_cumulative_excess_ret');  # dotted red\n",
    "plt.legend()"
   ]
  }
 ],
 "metadata": {
  "kernelspec": {
   "display_name": "Python 3",
   "language": "python",
   "name": "python3"
  },
  "language_info": {
   "codemirror_mode": {
    "name": "ipython",
    "version": 3
   },
   "file_extension": ".py",
   "mimetype": "text/x-python",
   "name": "python",
   "nbconvert_exporter": "python",
   "pygments_lexer": "ipython3",
   "version": "3.7.6"
  }
 },
 "nbformat": 4,
 "nbformat_minor": 4
}
